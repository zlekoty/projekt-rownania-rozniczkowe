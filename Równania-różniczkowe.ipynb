{
 "cells": [
  {
   "cell_type": "markdown",
   "id": "integrated-while",
   "metadata": {},
   "source": [
    "# Modelowanie systemów emerytalnych w obliczu starzejącego się społeczeństwa"
   ]
  },
  {
   "cell_type": "code",
   "execution_count": null,
   "id": "piano-playback",
   "metadata": {},
   "outputs": [],
   "source": [
    "from IPython.display import display, Math, Latex\n",
    "display(Math(r'F(k) = \\int_{-\\infty}^{\\infty} f(x) e^{2\\pi i k} dx'))\n"
   ]
  },
  {
   "cell_type": "markdown",
   "id": "correct-breed",
   "metadata": {},
   "source": [
    "$c = \\sqrt{a^2 + b^2}$\n"
   ]
  },
  {
   "cell_type": "markdown",
   "id": "afraid-division",
   "metadata": {},
   "source": [
    "W dzisiejszej Europie jesteśmy świadkami bardzo szybkiego starzenia się społeczeństw. Współczynnk dzietności spada, a średnia długość życia wzrasta. Proporcja osób na emeryturze w stosunku do odób pracujących (ODR) będzie wzrastać. \n",
    "W naszym projekcie przyjżymy się prognozom, spróbujemy zasymulować alternatywne rezultaty, a także przyjrzymy się błędom w rozwiązaniach numerycznych naszego modelu."
   ]
  },
  {
   "cell_type": "markdown",
   "id": "provincial-strain",
   "metadata": {},
   "source": [
    "## Model matematyczny - rozwiązanie analityczne"
   ]
  },
  {
   "cell_type": "code",
   "execution_count": null,
   "id": "formed-public",
   "metadata": {},
   "outputs": [],
   "source": []
  },
  {
   "cell_type": "markdown",
   "id": "caring-russia",
   "metadata": {},
   "source": [
    "Aby móc porównać rozwiązania numeryczne, najpierw musieliśmy rozwiązać problem analitycznie. W tym celu użyliśmy modelu zaproponowanego w artykule [1] $$P(t)=C(t)+W(t)+R(t)$$\n",
    "gdzie:\n",
    "\n",
    "$P(t)$ -Cała populacja\n",
    "\n",
    "$C(t)$ -Dzieci\n",
    "\n",
    "$W(t)$ -Osoby pracujące\n",
    "\n",
    "$R(t)$ -Osoby na emeryturze\n",
    "\n",
    "korzystając z następujących wskaźników:\n",
    "\n",
    "$ b  \\textrm{-współczynnik urodzeń}$,\n",
    "\n",
    "$ \\mu  \\textrm{-współczynnik śmierci w grupie osób na emeryturze}$,\n",
    "\n",
    "$ \\beta \\textrm{-współczynnik dzieci stających się pracownikami}$,\n",
    "\n",
    "$ \\gamma \\textrm{-współczynnik pracowników przechodzących na emeryturę}$\n",
    "\n",
    "możemy sformułować następujący układ równań:\n",
    "$$\\left\\{\\begin{array}{rcl}\n",
    "\\dot{C}(t)&=&bP(t)-\\beta C(t)\\\\\n",
    "\\dot{W}(t)&=&\\beta C(t)-\\gamma W(t)\\\\\n",
    "\\dot{R}(t)&=&\\gamma W(t)-\\mu P(t)\\\\\n",
    "\\end{array} \\right.$$\n",
    "aby uprościć dalsze obliczenia przeskalujemy go\n"
   ]
  },
  {
   "cell_type": "markdown",
   "id": "confident-investing",
   "metadata": {},
   "source": [
    "[1]http://www.scielo.org.co/pdf/ince/v10n19/v10n19a03.pdf"
   ]
  }
 ],
 "metadata": {
  "kernelspec": {
   "display_name": "Python 3",
   "language": "python",
   "name": "python3"
  },
  "language_info": {
   "codemirror_mode": {
    "name": "ipython",
    "version": 3
   },
   "file_extension": ".py",
   "mimetype": "text/x-python",
   "name": "python",
   "nbconvert_exporter": "python",
   "pygments_lexer": "ipython3",
   "version": "3.8.5"
  }
 },
 "nbformat": 4,
 "nbformat_minor": 5
}
